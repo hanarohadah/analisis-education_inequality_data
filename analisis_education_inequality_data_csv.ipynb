{
  "nbformat": 4,
  "nbformat_minor": 0,
  "metadata": {
    "colab": {
      "provenance": [],
      "authorship_tag": "ABX9TyOCnHgYcmgIE+KxQ9jEoqD1",
      "include_colab_link": true
    },
    "kernelspec": {
      "name": "python3",
      "display_name": "Python 3"
    },
    "language_info": {
      "name": "python"
    }
  },
  "cells": [
    {
      "cell_type": "markdown",
      "metadata": {
        "id": "view-in-github",
        "colab_type": "text"
      },
      "source": [
        "<a href=\"https://colab.research.google.com/github/hanarohadah/analisis-education_inequality_data/blob/main/analisis_education_inequality_data_csv.ipynb\" target=\"_parent\"><img src=\"https://colab.research.google.com/assets/colab-badge.svg\" alt=\"Open In Colab\"/></a>"
      ]
    },
    {
      "cell_type": "code",
      "source": [
        "from google.colab import files\n",
        "uploaded = files.upload()"
      ],
      "metadata": {
        "colab": {
          "base_uri": "https://localhost:8080/",
          "height": 73
        },
        "id": "q6HaC311aHAb",
        "outputId": "615d1d3b-99aa-4873-c18d-62ee48847f1a"
      },
      "execution_count": 4,
      "outputs": [
        {
          "output_type": "display_data",
          "data": {
            "text/plain": [
              "<IPython.core.display.HTML object>"
            ],
            "text/html": [
              "\n",
              "     <input type=\"file\" id=\"files-9139e14d-4f38-4203-8631-f61cc2b56591\" name=\"files[]\" multiple disabled\n",
              "        style=\"border:none\" />\n",
              "     <output id=\"result-9139e14d-4f38-4203-8631-f61cc2b56591\">\n",
              "      Upload widget is only available when the cell has been executed in the\n",
              "      current browser session. Please rerun this cell to enable.\n",
              "      </output>\n",
              "      <script>// Copyright 2017 Google LLC\n",
              "//\n",
              "// Licensed under the Apache License, Version 2.0 (the \"License\");\n",
              "// you may not use this file except in compliance with the License.\n",
              "// You may obtain a copy of the License at\n",
              "//\n",
              "//      http://www.apache.org/licenses/LICENSE-2.0\n",
              "//\n",
              "// Unless required by applicable law or agreed to in writing, software\n",
              "// distributed under the License is distributed on an \"AS IS\" BASIS,\n",
              "// WITHOUT WARRANTIES OR CONDITIONS OF ANY KIND, either express or implied.\n",
              "// See the License for the specific language governing permissions and\n",
              "// limitations under the License.\n",
              "\n",
              "/**\n",
              " * @fileoverview Helpers for google.colab Python module.\n",
              " */\n",
              "(function(scope) {\n",
              "function span(text, styleAttributes = {}) {\n",
              "  const element = document.createElement('span');\n",
              "  element.textContent = text;\n",
              "  for (const key of Object.keys(styleAttributes)) {\n",
              "    element.style[key] = styleAttributes[key];\n",
              "  }\n",
              "  return element;\n",
              "}\n",
              "\n",
              "// Max number of bytes which will be uploaded at a time.\n",
              "const MAX_PAYLOAD_SIZE = 100 * 1024;\n",
              "\n",
              "function _uploadFiles(inputId, outputId) {\n",
              "  const steps = uploadFilesStep(inputId, outputId);\n",
              "  const outputElement = document.getElementById(outputId);\n",
              "  // Cache steps on the outputElement to make it available for the next call\n",
              "  // to uploadFilesContinue from Python.\n",
              "  outputElement.steps = steps;\n",
              "\n",
              "  return _uploadFilesContinue(outputId);\n",
              "}\n",
              "\n",
              "// This is roughly an async generator (not supported in the browser yet),\n",
              "// where there are multiple asynchronous steps and the Python side is going\n",
              "// to poll for completion of each step.\n",
              "// This uses a Promise to block the python side on completion of each step,\n",
              "// then passes the result of the previous step as the input to the next step.\n",
              "function _uploadFilesContinue(outputId) {\n",
              "  const outputElement = document.getElementById(outputId);\n",
              "  const steps = outputElement.steps;\n",
              "\n",
              "  const next = steps.next(outputElement.lastPromiseValue);\n",
              "  return Promise.resolve(next.value.promise).then((value) => {\n",
              "    // Cache the last promise value to make it available to the next\n",
              "    // step of the generator.\n",
              "    outputElement.lastPromiseValue = value;\n",
              "    return next.value.response;\n",
              "  });\n",
              "}\n",
              "\n",
              "/**\n",
              " * Generator function which is called between each async step of the upload\n",
              " * process.\n",
              " * @param {string} inputId Element ID of the input file picker element.\n",
              " * @param {string} outputId Element ID of the output display.\n",
              " * @return {!Iterable<!Object>} Iterable of next steps.\n",
              " */\n",
              "function* uploadFilesStep(inputId, outputId) {\n",
              "  const inputElement = document.getElementById(inputId);\n",
              "  inputElement.disabled = false;\n",
              "\n",
              "  const outputElement = document.getElementById(outputId);\n",
              "  outputElement.innerHTML = '';\n",
              "\n",
              "  const pickedPromise = new Promise((resolve) => {\n",
              "    inputElement.addEventListener('change', (e) => {\n",
              "      resolve(e.target.files);\n",
              "    });\n",
              "  });\n",
              "\n",
              "  const cancel = document.createElement('button');\n",
              "  inputElement.parentElement.appendChild(cancel);\n",
              "  cancel.textContent = 'Cancel upload';\n",
              "  const cancelPromise = new Promise((resolve) => {\n",
              "    cancel.onclick = () => {\n",
              "      resolve(null);\n",
              "    };\n",
              "  });\n",
              "\n",
              "  // Wait for the user to pick the files.\n",
              "  const files = yield {\n",
              "    promise: Promise.race([pickedPromise, cancelPromise]),\n",
              "    response: {\n",
              "      action: 'starting',\n",
              "    }\n",
              "  };\n",
              "\n",
              "  cancel.remove();\n",
              "\n",
              "  // Disable the input element since further picks are not allowed.\n",
              "  inputElement.disabled = true;\n",
              "\n",
              "  if (!files) {\n",
              "    return {\n",
              "      response: {\n",
              "        action: 'complete',\n",
              "      }\n",
              "    };\n",
              "  }\n",
              "\n",
              "  for (const file of files) {\n",
              "    const li = document.createElement('li');\n",
              "    li.append(span(file.name, {fontWeight: 'bold'}));\n",
              "    li.append(span(\n",
              "        `(${file.type || 'n/a'}) - ${file.size} bytes, ` +\n",
              "        `last modified: ${\n",
              "            file.lastModifiedDate ? file.lastModifiedDate.toLocaleDateString() :\n",
              "                                    'n/a'} - `));\n",
              "    const percent = span('0% done');\n",
              "    li.appendChild(percent);\n",
              "\n",
              "    outputElement.appendChild(li);\n",
              "\n",
              "    const fileDataPromise = new Promise((resolve) => {\n",
              "      const reader = new FileReader();\n",
              "      reader.onload = (e) => {\n",
              "        resolve(e.target.result);\n",
              "      };\n",
              "      reader.readAsArrayBuffer(file);\n",
              "    });\n",
              "    // Wait for the data to be ready.\n",
              "    let fileData = yield {\n",
              "      promise: fileDataPromise,\n",
              "      response: {\n",
              "        action: 'continue',\n",
              "      }\n",
              "    };\n",
              "\n",
              "    // Use a chunked sending to avoid message size limits. See b/62115660.\n",
              "    let position = 0;\n",
              "    do {\n",
              "      const length = Math.min(fileData.byteLength - position, MAX_PAYLOAD_SIZE);\n",
              "      const chunk = new Uint8Array(fileData, position, length);\n",
              "      position += length;\n",
              "\n",
              "      const base64 = btoa(String.fromCharCode.apply(null, chunk));\n",
              "      yield {\n",
              "        response: {\n",
              "          action: 'append',\n",
              "          file: file.name,\n",
              "          data: base64,\n",
              "        },\n",
              "      };\n",
              "\n",
              "      let percentDone = fileData.byteLength === 0 ?\n",
              "          100 :\n",
              "          Math.round((position / fileData.byteLength) * 100);\n",
              "      percent.textContent = `${percentDone}% done`;\n",
              "\n",
              "    } while (position < fileData.byteLength);\n",
              "  }\n",
              "\n",
              "  // All done.\n",
              "  yield {\n",
              "    response: {\n",
              "      action: 'complete',\n",
              "    }\n",
              "  };\n",
              "}\n",
              "\n",
              "scope.google = scope.google || {};\n",
              "scope.google.colab = scope.google.colab || {};\n",
              "scope.google.colab._files = {\n",
              "  _uploadFiles,\n",
              "  _uploadFilesContinue,\n",
              "};\n",
              "})(self);\n",
              "</script> "
            ]
          },
          "metadata": {}
        },
        {
          "output_type": "stream",
          "name": "stdout",
          "text": [
            "Saving education_inequality_data.csv to education_inequality_data.csv\n"
          ]
        }
      ]
    },
    {
      "cell_type": "code",
      "source": [
        "import pandas as pd\n",
        "import io\n",
        "\n",
        "df = pd.read_csv(io.BytesIO(uploaded['education_inequality_data.csv']))\n",
        "\n",
        "# Tampilkan 5 baris pertama untuk memastikan berhasil\n",
        "print(df.head())\n"
      ],
      "metadata": {
        "colab": {
          "base_uri": "https://localhost:8080/"
        },
        "id": "kqoSMgriaTv2",
        "outputId": "8d1c001d-a533-457d-c073-1c754e00d67d"
      },
      "execution_count": 5,
      "outputs": [
        {
          "output_type": "stream",
          "name": "stdout",
          "text": [
            "   id             school_name     state school_type grade_level  \\\n",
            "0   1      Bowman High School  Michigan     Private        High   \n",
            "1   2      Foster High School  Michigan     Charter      Middle   \n",
            "2   3      Henson High School  New York      Public      Middle   \n",
            "3   4      Weaver High School     Texas     Private  Elementary   \n",
            "4   5  King Elementary School  Michigan      Public  Elementary   \n",
            "\n",
            "   funding_per_student_usd  avg_test_score_percent  student_teacher_ratio  \\\n",
            "0                  9575.80                    65.9                   17.5   \n",
            "1                 16733.10                    87.3                   24.2   \n",
            "2                 24890.74                    72.8                   27.0   \n",
            "3                  6857.49                    81.5                   26.2   \n",
            "4                 16910.73                    44.7                   20.2   \n",
            "\n",
            "   percent_low_income  percent_minority  internet_access_percent  \\\n",
            "0                30.0              44.0                     74.1   \n",
            "1                93.5              40.1                     79.9   \n",
            "2                58.1              35.8                     51.1   \n",
            "3                82.7              72.0                     55.5   \n",
            "4                41.4              16.1                     57.8   \n",
            "\n",
            "   dropout_rate_percent  \n",
            "0                  3.44  \n",
            "1                  8.67  \n",
            "2                 14.75  \n",
            "3                 13.45  \n",
            "4                  6.98  \n"
          ]
        }
      ]
    },
    {
      "cell_type": "code",
      "source": [
        "# Cek header kolom\n",
        "df.info()"
      ],
      "metadata": {
        "colab": {
          "base_uri": "https://localhost:8080/"
        },
        "id": "0kIK7lbHbGl9",
        "outputId": "ad8479b5-0a0c-499e-b2ca-f5141c68d3b0"
      },
      "execution_count": 6,
      "outputs": [
        {
          "output_type": "stream",
          "name": "stdout",
          "text": [
            "<class 'pandas.core.frame.DataFrame'>\n",
            "RangeIndex: 1000 entries, 0 to 999\n",
            "Data columns (total 12 columns):\n",
            " #   Column                   Non-Null Count  Dtype  \n",
            "---  ------                   --------------  -----  \n",
            " 0   id                       1000 non-null   int64  \n",
            " 1   school_name              1000 non-null   object \n",
            " 2   state                    1000 non-null   object \n",
            " 3   school_type              1000 non-null   object \n",
            " 4   grade_level              1000 non-null   object \n",
            " 5   funding_per_student_usd  1000 non-null   float64\n",
            " 6   avg_test_score_percent   1000 non-null   float64\n",
            " 7   student_teacher_ratio    1000 non-null   float64\n",
            " 8   percent_low_income       1000 non-null   float64\n",
            " 9   percent_minority         1000 non-null   float64\n",
            " 10  internet_access_percent  1000 non-null   float64\n",
            " 11  dropout_rate_percent     1000 non-null   float64\n",
            "dtypes: float64(7), int64(1), object(4)\n",
            "memory usage: 93.9+ KB\n"
          ]
        }
      ]
    },
    {
      "cell_type": "code",
      "source": [
        "# Menghitung jumlah missing values per kolom\n",
        "df.isnull().sum()"
      ],
      "metadata": {
        "colab": {
          "base_uri": "https://localhost:8080/",
          "height": 460
        },
        "id": "LZwUc0mnb7oo",
        "outputId": "d1b25266-b1b2-4b2b-e0b7-093a51fd4471"
      },
      "execution_count": 7,
      "outputs": [
        {
          "output_type": "execute_result",
          "data": {
            "text/plain": [
              "id                         0\n",
              "school_name                0\n",
              "state                      0\n",
              "school_type                0\n",
              "grade_level                0\n",
              "funding_per_student_usd    0\n",
              "avg_test_score_percent     0\n",
              "student_teacher_ratio      0\n",
              "percent_low_income         0\n",
              "percent_minority           0\n",
              "internet_access_percent    0\n",
              "dropout_rate_percent       0\n",
              "dtype: int64"
            ],
            "text/html": [
              "<div>\n",
              "<style scoped>\n",
              "    .dataframe tbody tr th:only-of-type {\n",
              "        vertical-align: middle;\n",
              "    }\n",
              "\n",
              "    .dataframe tbody tr th {\n",
              "        vertical-align: top;\n",
              "    }\n",
              "\n",
              "    .dataframe thead th {\n",
              "        text-align: right;\n",
              "    }\n",
              "</style>\n",
              "<table border=\"1\" class=\"dataframe\">\n",
              "  <thead>\n",
              "    <tr style=\"text-align: right;\">\n",
              "      <th></th>\n",
              "      <th>0</th>\n",
              "    </tr>\n",
              "  </thead>\n",
              "  <tbody>\n",
              "    <tr>\n",
              "      <th>id</th>\n",
              "      <td>0</td>\n",
              "    </tr>\n",
              "    <tr>\n",
              "      <th>school_name</th>\n",
              "      <td>0</td>\n",
              "    </tr>\n",
              "    <tr>\n",
              "      <th>state</th>\n",
              "      <td>0</td>\n",
              "    </tr>\n",
              "    <tr>\n",
              "      <th>school_type</th>\n",
              "      <td>0</td>\n",
              "    </tr>\n",
              "    <tr>\n",
              "      <th>grade_level</th>\n",
              "      <td>0</td>\n",
              "    </tr>\n",
              "    <tr>\n",
              "      <th>funding_per_student_usd</th>\n",
              "      <td>0</td>\n",
              "    </tr>\n",
              "    <tr>\n",
              "      <th>avg_test_score_percent</th>\n",
              "      <td>0</td>\n",
              "    </tr>\n",
              "    <tr>\n",
              "      <th>student_teacher_ratio</th>\n",
              "      <td>0</td>\n",
              "    </tr>\n",
              "    <tr>\n",
              "      <th>percent_low_income</th>\n",
              "      <td>0</td>\n",
              "    </tr>\n",
              "    <tr>\n",
              "      <th>percent_minority</th>\n",
              "      <td>0</td>\n",
              "    </tr>\n",
              "    <tr>\n",
              "      <th>internet_access_percent</th>\n",
              "      <td>0</td>\n",
              "    </tr>\n",
              "    <tr>\n",
              "      <th>dropout_rate_percent</th>\n",
              "      <td>0</td>\n",
              "    </tr>\n",
              "  </tbody>\n",
              "</table>\n",
              "</div><br><label><b>dtype:</b> int64</label>"
            ]
          },
          "metadata": {},
          "execution_count": 7
        }
      ]
    },
    {
      "cell_type": "code",
      "source": [
        "# Menghitung rata-rata pendanaan per siswa\n",
        "rata_rata_pendanaan = df['funding_per_student_usd'].mean()\n",
        "print(f\"Rata-rata pendanaan per siswa adalah:${rata_rata_pendanaan}\")"
      ],
      "metadata": {
        "colab": {
          "base_uri": "https://localhost:8080/"
        },
        "id": "DaDmrjpAdqXA",
        "outputId": "e70e734e-8419-4527-8e02-2a36fce45025"
      },
      "execution_count": 8,
      "outputs": [
        {
          "output_type": "stream",
          "name": "stdout",
          "text": [
            "Rata-rata pendanaan per siswa adalah:$15154.160179999999\n"
          ]
        }
      ]
    },
    {
      "cell_type": "code",
      "source": [
        "# Perbandingan Rata-rata Nilai Ujian Berdasarkan Tipe Sekolah\n",
        "rata_rata_nilai_per_tipe_sekolah = df.groupby('school_type')['avg_test_score_percent'].mean()\n",
        "print (rata_rata_nilai_per_tipe_sekolah)"
      ],
      "metadata": {
        "colab": {
          "base_uri": "https://localhost:8080/"
        },
        "id": "UgF9T6CQpEGe",
        "outputId": "748c7a8c-b23d-4247-d4b7-0fb17dbd9203"
      },
      "execution_count": 10,
      "outputs": [
        {
          "output_type": "stream",
          "name": "stdout",
          "text": [
            "school_type\n",
            "Charter    69.069632\n",
            "Private    70.505634\n",
            "Public     70.391223\n",
            "Name: avg_test_score_percent, dtype: float64\n"
          ]
        }
      ]
    },
    {
      "cell_type": "code",
      "source": [
        "# Sekolah dengan Tingkat Putus Sekolah Tertinggi dan Terendah\n",
        "sekolah_dropout_tertinggi = df.sort_values(by='dropout_rate_percent', ascending=False).head(5)\n",
        "sekolah_dropout_terendah = df.sort_values(by='dropout_rate_percent').head(5)\n",
        "\n",
        "print(\"Sekolah dengan Tingkat Putus Sekolah Tertinggi:\")\n",
        "print(sekolah_dropout_tertinggi[['school_name','state','dropout_rate_percent']])\n",
        "\n",
        "print(\"\\nSekolah dengan Tingkat Putus Sekolah Terendah:\")\n",
        "print(sekolah_dropout_terendah[['school_name','state','dropout_rate_percent']])"
      ],
      "metadata": {
        "colab": {
          "base_uri": "https://localhost:8080/"
        },
        "id": "tDJvMLtsqwjy",
        "outputId": "6d6bfef5-da73-4bb2-ec5d-710fbeb8a9b8"
      },
      "execution_count": 13,
      "outputs": [
        {
          "output_type": "stream",
          "name": "stdout",
          "text": [
            "Sekolah dengan Tingkat Putus Sekolah Tertinggi:\n",
            "                   school_name       state  dropout_rate_percent\n",
            "953  Fleming Elementary School       Texas                 14.99\n",
            "248    Price Elementary School       Texas                 14.99\n",
            "929          Fox Middle School  California                 14.96\n",
            "62      Schwartz Middle School    Illinois                 14.95\n",
            "740     Mack Elementary School    Michigan                 14.94\n",
            "\n",
            "Sekolah dengan Tingkat Putus Sekolah Terendah:\n",
            "                  school_name           state  dropout_rate_percent\n",
            "937       Barnett High School         Florida                  0.50\n",
            "45    Stevenson Middle School      California                  0.54\n",
            "613       Brown Middle School  North Carolina                  0.56\n",
            "415   Huynh Elementary School        New York                  0.56\n",
            "363  Martin Elementary School    Pennsylvania                  0.58\n"
          ]
        }
      ]
    },
    {
      "cell_type": "code",
      "source": [
        "# Distribusi Nilai Ujian (Histogram)\n",
        "import matplotlib.pyplot as plt\n",
        "import seaborn as sns\n",
        "\n",
        "sns.set_style(\"whitegrid\")\n",
        "\n",
        "plt.figure(figsize=(10,6))\n",
        "sns.histplot(df['avg_test_score_percent'], bins=15, kde=True)\n",
        "\n",
        "plt.title('Distribusi Rata-rata Nilai Ujian Sekolah')\n",
        "plt.xlabel('Rata-rata Nilai Ujian (%)')\n",
        "plt.ylabel('Jumlah Sekolah')\n",
        "\n",
        "plt.show"
      ],
      "metadata": {
        "colab": {
          "base_uri": "https://localhost:8080/",
          "height": 734
        },
        "id": "btC_7pCTsM0-",
        "outputId": "45c3717a-005e-4adb-eea8-38241a3dd116"
      },
      "execution_count": 14,
      "outputs": [
        {
          "output_type": "execute_result",
          "data": {
            "text/plain": [
              "<function matplotlib.pyplot.show(close=None, block=None)>"
            ],
            "text/html": [
              "<div style=\"max-width:800px; border: 1px solid var(--colab-border-color);\"><style>\n",
              "      pre.function-repr-contents {\n",
              "        overflow-x: auto;\n",
              "        padding: 8px 12px;\n",
              "        max-height: 500px;\n",
              "      }\n",
              "\n",
              "      pre.function-repr-contents.function-repr-contents-collapsed {\n",
              "        cursor: pointer;\n",
              "        max-height: 100px;\n",
              "      }\n",
              "    </style>\n",
              "    <pre style=\"white-space: initial; background:\n",
              "         var(--colab-secondary-surface-color); padding: 8px 12px;\n",
              "         border-bottom: 1px solid var(--colab-border-color);\"><b>matplotlib.pyplot.show</b><br/>def show(*args, **kwargs) -&gt; None</pre><pre class=\"function-repr-contents function-repr-contents-collapsed\" style=\"\"><a class=\"filepath\" style=\"display:none\" href=\"#\">/usr/local/lib/python3.12/dist-packages/matplotlib/pyplot.py</a>Display all open figures.\n",
              "\n",
              "Parameters\n",
              "----------\n",
              "block : bool, optional\n",
              "    Whether to wait for all figures to be closed before returning.\n",
              "\n",
              "    If `True` block and run the GUI main loop until all figure windows\n",
              "    are closed.\n",
              "\n",
              "    If `False` ensure that all figure windows are displayed and return\n",
              "    immediately.  In this case, you are responsible for ensuring\n",
              "    that the event loop is running to have responsive figures.\n",
              "\n",
              "    Defaults to True in non-interactive mode and to False in interactive\n",
              "    mode (see `.pyplot.isinteractive`).\n",
              "\n",
              "See Also\n",
              "--------\n",
              "ion : Enable interactive mode, which shows / updates the figure after\n",
              "      every plotting command, so that calling ``show()`` is not necessary.\n",
              "ioff : Disable interactive mode.\n",
              "savefig : Save the figure to an image file instead of showing it on screen.\n",
              "\n",
              "Notes\n",
              "-----\n",
              "**Saving figures to file and showing a window at the same time**\n",
              "\n",
              "If you want an image file as well as a user interface window, use\n",
              "`.pyplot.savefig` before `.pyplot.show`. At the end of (a blocking)\n",
              "``show()`` the figure is closed and thus unregistered from pyplot. Calling\n",
              "`.pyplot.savefig` afterwards would save a new and thus empty figure. This\n",
              "limitation of command order does not apply if the show is non-blocking or\n",
              "if you keep a reference to the figure and use `.Figure.savefig`.\n",
              "\n",
              "**Auto-show in jupyter notebooks**\n",
              "\n",
              "The jupyter backends (activated via ``%matplotlib inline``,\n",
              "``%matplotlib notebook``, or ``%matplotlib widget``), call ``show()`` at\n",
              "the end of every cell by default. Thus, you usually don&#x27;t have to call it\n",
              "explicitly there.</pre>\n",
              "      <script>\n",
              "      if (google.colab.kernel.accessAllowed && google.colab.files && google.colab.files.view) {\n",
              "        for (const element of document.querySelectorAll('.filepath')) {\n",
              "          element.style.display = 'block'\n",
              "          element.onclick = (event) => {\n",
              "            event.preventDefault();\n",
              "            event.stopPropagation();\n",
              "            google.colab.files.view(element.textContent, 569);\n",
              "          };\n",
              "        }\n",
              "      }\n",
              "      for (const element of document.querySelectorAll('.function-repr-contents')) {\n",
              "        element.onclick = (event) => {\n",
              "          event.preventDefault();\n",
              "          event.stopPropagation();\n",
              "          element.classList.toggle('function-repr-contents-collapsed');\n",
              "        };\n",
              "      }\n",
              "      </script>\n",
              "      </div>"
            ]
          },
          "metadata": {},
          "execution_count": 14
        },
        {
          "output_type": "display_data",
          "data": {
            "text/plain": [
              "<Figure size 1000x600 with 1 Axes>"
            ],
            "image/png": "[encoded data removed]"
          },
          "metadata": {}
        }
      ]
    },
    {
      "cell_type": "code",
      "source": [
        "# Perbandingan Akses Internet Antar Negara Bagian\n",
        "\n",
        "rata_rata_akses_internet = df.groupby('state')['internet_access_percent'].mean().sort_values(ascending=False)\n",
        "\n",
        "# Menampilkan 10 negara bagian dengan rata-rata akses internet tertinggi\n",
        "print(\"10 Negara Bagian dengan Akses Internet Tertinggi:\")\n",
        "print(rata_rata_akses_internet.head(10))"
      ],
      "metadata": {
        "colab": {
          "base_uri": "https://localhost:8080/"
        },
        "id": "Bi6rx7-Et3Cm",
        "outputId": "2d22be25-c8c3-4a9c-ed30-2344b69eaeb2"
      },
      "execution_count": 17,
      "outputs": [
        {
          "output_type": "stream",
          "name": "stdout",
          "text": [
            "10 Negara Bagian dengan Akses Internet Tertinggi:\n",
            "state\n",
            "California        78.817526\n",
            "Illinois          75.955882\n",
            "Michigan          75.753933\n",
            "Pennsylvania      74.907143\n",
            "Georgia           74.704673\n",
            "North Carolina    74.000000\n",
            "New York          73.780000\n",
            "Florida           73.631818\n",
            "Ohio              73.335644\n",
            "Texas             72.676471\n",
            "Name: internet_access_percent, dtype: float64\n"
          ]
        }
      ]
    },
    {
      "cell_type": "code",
      "source": [
        "# Cari nilai ujian tertinggi\n",
        "nilai_ujian_tertinggi = df['avg_test_score_percent'].max()\n",
        "\n",
        "sekolah_tertinggi = df.loc[df['avg_test_score_percent'].idxmax()]\n",
        "\n",
        "print(f\"Nilai ujian tertinggi adalah: {nilai_ujian_tertinggi:.2f}%\")\n",
        "print(f'Sekolah dengan nilai tertinggi: {sekolah_tertinggi['school_name']} di {sekolah_tertinggi['state']}')"
      ],
      "metadata": {
        "colab": {
          "base_uri": "https://localhost:8080/"
        },
        "id": "K7Q0mON0ybBi",
        "outputId": "4e6b5991-62e3-4ced-d0ae-c905b761c515"
      },
      "execution_count": 19,
      "outputs": [
        {
          "output_type": "stream",
          "name": "stdout",
          "text": [
            "Nilai ujian tertinggi adalah: 100.00%\n",
            "Sekolah dengan nilai tertinggi: Smith High School di California\n"
          ]
        }
      ]
    },
    {
      "cell_type": "code",
      "source": [
        "# Pendanaan per Siswa Terbanyak dan Paling Sedikit\n",
        "pendanaan_tertinggi = df['funding_per_student_usd'].max()\n",
        "\n",
        "sekolah_pendanaan_tertinggi = df.loc[df['funding_per_student_usd'].idxmax()]\n",
        "\n",
        "print(f\"Pendanaan per siswa tertinggi: ${pendanaan_tertinggi:,.2f}\")\n",
        "print(f\"Sekolah dengan pendanaan tertinggi: {sekolah_pendanaan_tertinggi['school_name']} di {sekolah_pendanaan_tertinggi['state']}\")"
      ],
      "metadata": {
        "colab": {
          "base_uri": "https://localhost:8080/"
        },
        "id": "UIDNJGL10Nwc",
        "outputId": "1b358664-bdd3-4bc5-aa0f-626db9a58ebc"
      },
      "execution_count": 24,
      "outputs": [
        {
          "output_type": "stream",
          "name": "stdout",
          "text": [
            "Pendanaan per siswa tertinggi: $24,981.90\n",
            "Sekolah dengan pendanaan tertinggi: Hart Middle School di Georgia\n"
          ]
        }
      ]
    },
    {
      "cell_type": "code",
      "source": [
        "#rata-rata seluruh data\n",
        "\n",
        "rata_rata_semua = df[[\n",
        "    'avg_test_score_percent',\n",
        "    'funding_per_student_usd',\n",
        "    'dropout_rate_percent'\n",
        "]].mean()\n",
        "\n",
        "\n",
        "print(\"Rata-rata metrik utama di seluruh sekolah:\")\n",
        "print(rata_rata_semua)"
      ],
      "metadata": {
        "colab": {
          "base_uri": "https://localhost:8080/"
        },
        "id": "4J0isQRh1Hzo",
        "outputId": "2c952a9c-d6ad-449d-c089-a68618b4051b"
      },
      "execution_count": 25,
      "outputs": [
        {
          "output_type": "stream",
          "name": "stdout",
          "text": [
            "Rata-rata metrik utama di seluruh sekolah:\n",
            "avg_test_score_percent        70.00100\n",
            "funding_per_student_usd    15154.16018\n",
            "dropout_rate_percent           7.76560\n",
            "dtype: float64\n"
          ]
        }
      ]
    },
    {
      "cell_type": "code",
      "source": [
        "# Sekolah Paling Umum Berdasarkan Tingkat Pendidikan\n",
        "tingkat_pendidikan_terumum = df['grade_level'].mode()\n",
        "\n",
        "print(f\"Tingkat pendidikan paling umum adalah: {tingkat_pendidikan_terumum.iloc[0]}\")"
      ],
      "metadata": {
        "colab": {
          "base_uri": "https://localhost:8080/"
        },
        "id": "q5coSwxACpK2",
        "outputId": "8b0647b3-a6fc-4fb3-e224-60603d1fb01c"
      },
      "execution_count": 32,
      "outputs": [
        {
          "output_type": "stream",
          "name": "stdout",
          "text": [
            "Tingkat pendidikan paling umum adalah: Elementary\n"
          ]
        }
      ]
    },
    {
      "cell_type": "code",
      "source": [
        "# Median Pendanaan per Siswa\n",
        "median_pendanaan = df['funding_per_student_usd'].median()\n",
        "print (f\"Median pendanaan per siswa adalah: ${median_pendanaan:,.2f}\")"
      ],
      "metadata": {
        "colab": {
          "base_uri": "https://localhost:8080/"
        },
        "id": "kXMzk7iUFJLS",
        "outputId": "9fcfcc68-2532-45a8-ca24-203ae879537d"
      },
      "execution_count": 33,
      "outputs": [
        {
          "output_type": "stream",
          "name": "stdout",
          "text": [
            "Median pendanaan per siswa adalah: $15,362.47\n"
          ]
        }
      ]
    },
    {
      "cell_type": "code",
      "source": [
        "df.info()"
      ],
      "metadata": {
        "colab": {
          "base_uri": "https://localhost:8080/"
        },
        "id": "bickLh3DFdzP",
        "outputId": "e663fcf1-3775-4155-9f45-c57016693ceb"
      },
      "execution_count": 36,
      "outputs": [
        {
          "output_type": "stream",
          "name": "stdout",
          "text": [
            "<class 'pandas.core.frame.DataFrame'>\n",
            "RangeIndex: 1000 entries, 0 to 999\n",
            "Data columns (total 12 columns):\n",
            " #   Column                   Non-Null Count  Dtype  \n",
            "---  ------                   --------------  -----  \n",
            " 0   id                       1000 non-null   int64  \n",
            " 1   school_name              1000 non-null   object \n",
            " 2   state                    1000 non-null   object \n",
            " 3   school_type              1000 non-null   object \n",
            " 4   grade_level              1000 non-null   object \n",
            " 5   funding_per_student_usd  1000 non-null   float64\n",
            " 6   avg_test_score_percent   1000 non-null   float64\n",
            " 7   student_teacher_ratio    1000 non-null   float64\n",
            " 8   percent_low_income       1000 non-null   float64\n",
            " 9   percent_minority         1000 non-null   float64\n",
            " 10  internet_access_percent  1000 non-null   float64\n",
            " 11  dropout_rate_percent     1000 non-null   float64\n",
            "dtypes: float64(7), int64(1), object(4)\n",
            "memory usage: 93.9+ KB\n"
          ]
        }
      ]
    },
    {
      "cell_type": "code",
      "source": [
        "# Jumlah sekolah per negara bagian\n",
        "jumlah_sekolah_per_state = df['state'].value_counts()\n",
        "\n",
        "print(f\"Jumlah sekolah per negara bagian:\")\n",
        "print(jumlah_sekolah_per_state)"
      ],
      "metadata": {
        "colab": {
          "base_uri": "https://localhost:8080/"
        },
        "id": "JWXWyveeF6YH",
        "outputId": "38bb28e0-1b73-4f59-e281-63cefd12d789"
      },
      "execution_count": 38,
      "outputs": [
        {
          "output_type": "stream",
          "name": "stdout",
          "text": [
            "Jumlah sekolah per negara bagian:\n",
            "state\n",
            "Texas             119\n",
            "Florida           110\n",
            "Georgia           107\n",
            "Illinois          102\n",
            "Ohio              101\n",
            "California         97\n",
            "North Carolina     96\n",
            "New York           95\n",
            "Michigan           89\n",
            "Pennsylvania       84\n",
            "Name: count, dtype: int64\n"
          ]
        }
      ]
    },
    {
      "cell_type": "code",
      "source": [
        "# Perbandingan Nilai Ujian antara Sekolah Swasta dan Negeri\n",
        "sekolah_swasta = df[df['school_type'] == 'Private']\n",
        "sekolah_negeri = df[df['school_type'] == 'Public']\n",
        "\n",
        "rata_rata_nilai_swasta = sekolah_swasta['avg_test_score_percent'].mean()\n",
        "rata_rata_nilai_negeri = sekolah_negeri['avg_test_score_percent'].mean()\n",
        "\n",
        "print(f\"Rata-rata nilai ujian sekolah swasta: {rata_rata_nilai_swasta:.2f}%\")\n",
        "print(f\"Rata-rata nilai ujian sekolah negeri: {rata_rata_nilai_negeri:.2f}%\")"
      ],
      "metadata": {
        "colab": {
          "base_uri": "https://localhost:8080/"
        },
        "id": "Okuw9pFyGloZ",
        "outputId": "8e1fff31-d08c-450c-f77b-5a5df1eb1583"
      },
      "execution_count": 39,
      "outputs": [
        {
          "output_type": "stream",
          "name": "stdout",
          "text": [
            "Rata-rata nilai ujian sekolah swasta: 70.51%\n",
            "Rata-rata nilai ujian sekolah negeri: 70.39%\n"
          ]
        }
      ]
    },
    {
      "cell_type": "code",
      "source": [
        "#Proporsi Siswa Minoritas Terendah\n",
        "indeks_terendah = df['percent_minority'].idxmin()\n",
        "\n",
        "sekolah_terendah = df.loc[indeks_terendah]\n",
        "\n",
        "print(\"Sekolah dengan persentase siswa minoritas terendah:\")\n",
        "print(f\"Nama Sekolah: {sekolah_terendah['school_name']}\")\n",
        "print(f\"Persentase Siswa Minoritas: {sekolah_terendah['percent_minority']:.2f}%\")\n",
        "print(f\"Negara Bagian: {sekolah_terendah['state']}\")"
      ],
      "metadata": {
        "colab": {
          "base_uri": "https://localhost:8080/"
        },
        "id": "wL2QNTc_Hb0T",
        "outputId": "40b2d3ba-7ca4-40f7-c168-03c0b669f8d7"
      },
      "execution_count": 40,
      "outputs": [
        {
          "output_type": "stream",
          "name": "stdout",
          "text": [
            "Sekolah dengan persentase siswa minoritas terendah:\n",
            "Nama Sekolah: Jones Middle School\n",
            "Persentase Siswa Minoritas: 5.00%\n",
            "Negara Bagian: New York\n"
          ]
        }
      ]
    }
  ]
}